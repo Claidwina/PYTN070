{
 "cells": [
  {
   "cell_type": "code",
   "execution_count": 2,
   "id": "79edd898",
   "metadata": {},
   "outputs": [
    {
     "name": "stdout",
     "output_type": "stream",
     "text": [
      "boleh masuk ke bar\n",
      "bisa beli minuman\n"
     ]
    }
   ],
   "source": [
    "umur = 18\n",
    "uang = 125000\n",
    "\n",
    "if umur <= 21 :\n",
    "    print(\"boleh masuk ke bar\")\n",
    "\n",
    "if uang <= 125000 : \n",
    "    print(\"bisa beli minuman\")"
   ]
  },
  {
   "cell_type": "code",
   "execution_count": 3,
   "id": "daceb94c",
   "metadata": {},
   "outputs": [
    {
     "name": "stdout",
     "output_type": "stream",
     "text": [
      "boleh masuk ke bar\n",
      "bisa beli minuman\n"
     ]
    }
   ],
   "source": [
    "umur = 18\n",
    "uang = 125000\n",
    "\n",
    "if umur <= 21 :\n",
    "    print(\"boleh masuk ke bar\")\n",
    "\n",
    "if uang <= 125000 : \n",
    "    print(\"bisa beli minuman\")"
   ]
  },
  {
   "cell_type": "code",
   "execution_count": 4,
   "id": "a3dcc442",
   "metadata": {},
   "outputs": [
    {
     "ename": "IndentationError",
     "evalue": "expected an indented block (Temp/ipykernel_1040/3420226152.py, line 7)",
     "output_type": "error",
     "traceback": [
      "\u001b[1;36m  File \u001b[1;32m\"C:\\Users\\CLAUDE~1\\AppData\\Local\\Temp/ipykernel_1040/3420226152.py\"\u001b[1;36m, line \u001b[1;32m7\u001b[0m\n\u001b[1;33m    print(\"bisa beli minuman\")\u001b[0m\n\u001b[1;37m    ^\u001b[0m\n\u001b[1;31mIndentationError\u001b[0m\u001b[1;31m:\u001b[0m expected an indented block\n"
     ]
    }
   ],
   "source": [
    "umur = 18\n",
    "uang = 125000\n",
    "\n",
    "if umur <= 21 :\n",
    "    print(\"boleh masuk ke bar\")\n",
    "    if uang <= 125000 : \n",
    "    print(\"bisa beli minuman\")\n",
    "\n",
    "\n"
   ]
  },
  {
   "cell_type": "code",
   "execution_count": 5,
   "id": "37c03426",
   "metadata": {},
   "outputs": [
    {
     "name": "stdout",
     "output_type": "stream",
     "text": [
      "belum boleh masuk ke bar\n",
      "bisa beli minuman\n"
     ]
    }
   ],
   "source": [
    "umur = 18\n",
    "uang = 125000\n",
    "\n",
    "if umur >= 21 :\n",
    "    print(\"boleh masuk ke bar\")\n",
    "elif umur < 21 :\n",
    "    print(\"belum boleh masuk ke bar\")\n",
    "\n",
    "if uang >= 125000 : \n",
    "    print(\"bisa beli minuman\")"
   ]
  },
  {
   "cell_type": "code",
   "execution_count": 7,
   "id": "19877ad3",
   "metadata": {},
   "outputs": [
    {
     "name": "stdout",
     "output_type": "stream",
     "text": [
      "belum boleh masuk ke bar\n",
      "bisa beli minuman\n"
     ]
    }
   ],
   "source": [
    "umur = 18\n",
    "uang = 125000\n",
    "\n",
    "if umur >= 21 :\n",
    "    print(\"boleh masuk ke bar\")\n",
    "elif umur < 21 :\n",
    "    print(\"belum boleh masuk ke bar\")\n",
    "\n",
    "if uang >= 100000 : \n",
    "    print(\"bisa beli minuman\")\n",
    "if uang < 100000 :\n",
    "    print(\"belum bisa beli minuman\")"
   ]
  },
  {
   "cell_type": "code",
   "execution_count": 8,
   "id": "b6f9ad8c",
   "metadata": {},
   "outputs": [
    {
     "name": "stdout",
     "output_type": "stream",
     "text": [
      "belum boleh masuk ke bar\n"
     ]
    }
   ],
   "source": [
    "umur = 18\n",
    "uang = 125000\n",
    "\n",
    "if umur >= 21 :\n",
    "    if uang >= 100000 : \n",
    "        print(\"bisa beli minuman\")\n",
    "    if uang < 100000 :\n",
    "        print(\"belum bisa beli minuman\")\n",
    "    print(\"boleh masuk ke bar\")\n",
    "elif umur < 21 :\n",
    "    print(\"belum boleh masuk ke bar\")\n",
    "\n"
   ]
  },
  {
   "cell_type": "code",
   "execution_count": 9,
   "id": "f3001724",
   "metadata": {},
   "outputs": [
    {
     "name": "stdout",
     "output_type": "stream",
     "text": [
      "belum boleh masuk ke bar\n"
     ]
    }
   ],
   "source": [
    "umur = 18\n",
    "uang = 125000\n",
    "if umur >= 21 :\n",
    "    if uang >= 100000 : \n",
    "        print(\"boleh masuk ke bar dan beli minum\")\n",
    "    if uang < 100000 :\n",
    "        print(\"boleh masuk ke bar tapi belum bisa beli minum\")\n",
    "elif umur < 21 :\n",
    "    print(\"belum boleh masuk ke bar\")"
   ]
  },
  {
   "cell_type": "code",
   "execution_count": 10,
   "id": "5e39d229",
   "metadata": {},
   "outputs": [
    {
     "name": "stdout",
     "output_type": "stream",
     "text": [
      "boleh masuk ke bar dan beli minum\n"
     ]
    }
   ],
   "source": [
    "umur = 23\n",
    "uang = 125000\n",
    "if umur >= 21 :\n",
    "    if uang >= 100000 : \n",
    "        print(\"boleh masuk ke bar dan beli minum\")\n",
    "    if uang < 100000 :\n",
    "        print(\"boleh masuk ke bar tapi belum bisa beli minum\")\n",
    "elif umur < 21 :\n",
    "    print(\"belum boleh masuk ke bar\")"
   ]
  },
  {
   "cell_type": "code",
   "execution_count": 18,
   "id": "bc1d3c4a",
   "metadata": {},
   "outputs": [
    {
     "name": "stdout",
     "output_type": "stream",
     "text": [
      "boleh masuk ke bar dan beli minum\n"
     ]
    }
   ],
   "source": [
    "umur = 18\n",
    "uang = 125000\n",
    "\n",
    "if umur >= 21 :\n",
    "    if uang >= 100000 : \n",
    "        print(\"boleh masuk ke bar dan beli minum\")\n",
    "    if uang < 100000 :\n",
    "        print(\"boleh masuk ke bar, tapi belum bisa beli minum\")\n",
    "elif umur < 21 :\n",
    "    if uang >= 100000 : \n",
    "        print(\"belum boleh masuk ke bar, meskipun uangnya cukup\")\n",
    "    if uang < 100000 :\n",
    "        print(\"belum boleh masuk ke bar dan belum bisa beli minum\")\n",
    "    "
   ]
  },
  {
   "cell_type": "code",
   "execution_count": null,
   "id": "8da7adc0",
   "metadata": {},
   "outputs": [],
   "source": []
  }
 ],
 "metadata": {
  "kernelspec": {
   "display_name": "Python 3 (ipykernel)",
   "language": "python",
   "name": "python3"
  },
  "language_info": {
   "codemirror_mode": {
    "name": "ipython",
    "version": 3
   },
   "file_extension": ".py",
   "mimetype": "text/x-python",
   "name": "python",
   "nbconvert_exporter": "python",
   "pygments_lexer": "ipython3",
   "version": "3.9.7"
  }
 },
 "nbformat": 4,
 "nbformat_minor": 5
}
