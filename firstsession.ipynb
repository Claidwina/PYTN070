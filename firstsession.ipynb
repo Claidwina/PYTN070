{
 "cells": [
  {
   "cell_type": "code",
   "execution_count": 1,
   "id": "a979efa0",
   "metadata": {},
   "outputs": [
    {
     "name": "stdout",
     "output_type": "stream",
     "text": [
      "halo\n"
     ]
    }
   ],
   "source": [
    "print(\"halo\")"
   ]
  },
  {
   "cell_type": "markdown",
   "id": "91f48c56",
   "metadata": {},
   "source": [
    "# ini heading pertama\n",
    "\n",
    "## ini heading kedua\n",
    "\n",
    "1. number one\n",
    "2. number two"
   ]
  },
  {
   "cell_type": "code",
   "execution_count": 2,
   "id": "09248f81",
   "metadata": {},
   "outputs": [
    {
     "ename": "SyntaxError",
     "evalue": "invalid syntax (Temp/ipykernel_8512/731843744.py, line 1)",
     "output_type": "error",
     "traceback": [
      "\u001b[1;36m  File \u001b[1;32m\"C:\\Users\\CLAUDE~1\\AppData\\Local\\Temp/ipykernel_8512/731843744.py\"\u001b[1;36m, line \u001b[1;32m1\u001b[0m\n\u001b[1;33m    angka nih : 1\u001b[0m\n\u001b[1;37m          ^\u001b[0m\n\u001b[1;31mSyntaxError\u001b[0m\u001b[1;31m:\u001b[0m invalid syntax\n"
     ]
    }
   ],
   "source": [
    "angka nih : 1 "
   ]
  },
  {
   "cell_type": "code",
   "execution_count": 3,
   "id": "e9b0e37e",
   "metadata": {},
   "outputs": [
    {
     "data": {
      "text/plain": [
       "1"
      ]
     },
     "execution_count": 3,
     "metadata": {},
     "output_type": "execute_result"
    }
   ],
   "source": [
    "1"
   ]
  },
  {
   "cell_type": "code",
   "execution_count": 4,
   "id": "6e6ebce5",
   "metadata": {},
   "outputs": [
    {
     "data": {
      "text/plain": [
       "4"
      ]
     },
     "execution_count": 4,
     "metadata": {},
     "output_type": "execute_result"
    }
   ],
   "source": [
    "1\n",
    "2\n",
    "3\n",
    "4"
   ]
  },
  {
   "cell_type": "code",
   "execution_count": 5,
   "id": "6631f205",
   "metadata": {},
   "outputs": [
    {
     "name": "stdout",
     "output_type": "stream",
     "text": [
      "1\n"
     ]
    }
   ],
   "source": [
    "print(1)"
   ]
  },
  {
   "cell_type": "code",
   "execution_count": 6,
   "id": "7109cb01",
   "metadata": {},
   "outputs": [
    {
     "name": "stdout",
     "output_type": "stream",
     "text": [
      "1\n"
     ]
    }
   ],
   "source": [
    "print(1)"
   ]
  },
  {
   "cell_type": "code",
   "execution_count": 7,
   "id": "8840b3f7",
   "metadata": {},
   "outputs": [
    {
     "name": "stdout",
     "output_type": "stream",
     "text": [
      "1\n",
      "2\n",
      "3\n"
     ]
    }
   ],
   "source": [
    "print(1)\n",
    "print(2)\n",
    "print(3)"
   ]
  },
  {
   "cell_type": "code",
   "execution_count": 8,
   "id": "da631992",
   "metadata": {},
   "outputs": [
    {
     "name": "stdout",
     "output_type": "stream",
     "text": [
      "<class 'int'>\n"
     ]
    }
   ],
   "source": [
    "print(type(4))"
   ]
  },
  {
   "cell_type": "code",
   "execution_count": 9,
   "id": "f7921681",
   "metadata": {},
   "outputs": [
    {
     "name": "stdout",
     "output_type": "stream",
     "text": [
      "misal namanya pake \"\"\n"
     ]
    }
   ],
   "source": [
    "print('misal namanya pake \"\"')"
   ]
  },
  {
   "cell_type": "code",
   "execution_count": 10,
   "id": "9509ec03",
   "metadata": {},
   "outputs": [
    {
     "name": "stdout",
     "output_type": "stream",
     "text": [
      "ana's\n"
     ]
    }
   ],
   "source": [
    "print(\"ana's\")"
   ]
  },
  {
   "cell_type": "code",
   "execution_count": 11,
   "id": "56bd14e0",
   "metadata": {},
   "outputs": [
    {
     "name": "stdout",
     "output_type": "stream",
     "text": [
      "<class 'str'>\n"
     ]
    }
   ],
   "source": [
    "print(type(str(30444)))"
   ]
  },
  {
   "cell_type": "code",
   "execution_count": 12,
   "id": "ceefcf51",
   "metadata": {},
   "outputs": [
    {
     "ename": "SyntaxError",
     "evalue": "unexpected EOF while parsing (Temp/ipykernel_8512/3842877818.py, line 4)",
     "output_type": "error",
     "traceback": [
      "\u001b[1;36m  File \u001b[1;32m\"C:\\Users\\CLAUDE~1\\AppData\\Local\\Temp/ipykernel_8512/3842877818.py\"\u001b[1;36m, line \u001b[1;32m4\u001b[0m\n\u001b[1;33m    print((str(30444))\u001b[0m\n\u001b[1;37m                      ^\u001b[0m\n\u001b[1;31mSyntaxError\u001b[0m\u001b[1;31m:\u001b[0m unexpected EOF while parsing\n"
     ]
    }
   ],
   "source": [
    "print(type(str(30444)))\n",
    "print(type(int(30444)))\n",
    "print(type(str(30444)))\n",
    "print((type(30444))\n"
   ]
  },
  {
   "cell_type": "code",
   "execution_count": 13,
   "id": "2377664e",
   "metadata": {},
   "outputs": [
    {
     "name": "stdout",
     "output_type": "stream",
     "text": [
      "<class 'str'>\n"
     ]
    }
   ],
   "source": [
    "print(type(str(30444)))"
   ]
  },
  {
   "cell_type": "code",
   "execution_count": 14,
   "id": "838daf75",
   "metadata": {},
   "outputs": [
    {
     "ename": "SyntaxError",
     "evalue": "unexpected EOF while parsing (Temp/ipykernel_8512/2332269410.py, line 5)",
     "output_type": "error",
     "traceback": [
      "\u001b[1;36m  File \u001b[1;32m\"C:\\Users\\CLAUDE~1\\AppData\\Local\\Temp/ipykernel_8512/2332269410.py\"\u001b[1;36m, line \u001b[1;32m5\u001b[0m\n\u001b[1;33m    \u001b[0m\n\u001b[1;37m    ^\u001b[0m\n\u001b[1;31mSyntaxError\u001b[0m\u001b[1;31m:\u001b[0m unexpected EOF while parsing\n"
     ]
    }
   ],
   "source": [
    "print(type(str(30444)))\n",
    "print(type(int(30444)))\n",
    "print(type(str(30444)))\n",
    "print((type(30444))\n",
    "    "
   ]
  },
  {
   "cell_type": "code",
   "execution_count": 17,
   "id": "b0c2bf3f",
   "metadata": {},
   "outputs": [
    {
     "name": "stdout",
     "output_type": "stream",
     "text": [
      "<class 'str'>\n",
      "<class 'int'>\n",
      "<class 'bool'> True\n",
      "<class 'int'>\n"
     ]
    }
   ],
   "source": [
    "print(type(str(30444)))\n",
    "print(type(int(30444)))\n",
    "print(type(bool(30444)),bool(30444))\n",
    "print(type(int(3044)))"
   ]
  },
  {
   "cell_type": "code",
   "execution_count": 18,
   "id": "57832fbf",
   "metadata": {},
   "outputs": [
    {
     "name": "stdout",
     "output_type": "stream",
     "text": [
      "False\n"
     ]
    }
   ],
   "source": [
    "print(bool(\"\"))"
   ]
  },
  {
   "cell_type": "code",
   "execution_count": 19,
   "id": "45869297",
   "metadata": {},
   "outputs": [
    {
     "name": "stdout",
     "output_type": "stream",
     "text": [
      "True\n"
     ]
    }
   ],
   "source": [
    "print(bool(\"aa\"))"
   ]
  },
  {
   "cell_type": "code",
   "execution_count": 20,
   "id": "009ff5cb",
   "metadata": {},
   "outputs": [
    {
     "name": "stdout",
     "output_type": "stream",
     "text": [
      "False\n",
      "False\n",
      "False\n"
     ]
    }
   ],
   "source": [
    "print(bool(\"\"))\n",
    "print(bool(''))\n",
    "print(bool([]))"
   ]
  },
  {
   "cell_type": "code",
   "execution_count": 27,
   "id": "aa0ff708",
   "metadata": {},
   "outputs": [],
   "source": [
    "toko = None"
   ]
  },
  {
   "cell_type": "code",
   "execution_count": 26,
   "id": "b1907ceb",
   "metadata": {},
   "outputs": [
    {
     "name": "stdout",
     "output_type": "stream",
     "text": [
      "Toko mainan Harry's\n"
     ]
    }
   ],
   "source": [
    "toko = \"Toko mainan Harry's\"\n",
    "print(toko)"
   ]
  },
  {
   "cell_type": "code",
   "execution_count": 29,
   "id": "68b64ade",
   "metadata": {},
   "outputs": [
    {
     "name": "stdout",
     "output_type": "stream",
     "text": [
      "Toko mainan Harry's\n",
      "Gak jadi deh, ini punya weasly's\n"
     ]
    }
   ],
   "source": [
    "toko = \"Toko mainan Harry's\"\n",
    "print(toko)\n",
    "\n",
    "toko = \"Gak jadi deh, ini punya weasly's\"\n",
    "print(toko)"
   ]
  },
  {
   "cell_type": "code",
   "execution_count": 28,
   "id": "189eaaaa",
   "metadata": {},
   "outputs": [
    {
     "name": "stdout",
     "output_type": "stream",
     "text": [
      "None\n"
     ]
    }
   ],
   "source": [
    "print(toko)"
   ]
  },
  {
   "cell_type": "code",
   "execution_count": 30,
   "id": "dad94d5e",
   "metadata": {},
   "outputs": [
    {
     "name": "stdout",
     "output_type": "stream",
     "text": [
      "[{'nama': 'ana'}, {'nama': 'fanny'}]\n"
     ]
    }
   ],
   "source": [
    "student = [{'nama':'ana'},{'nama':'fanny'}]\n",
    "print(student)"
   ]
  },
  {
   "cell_type": "code",
   "execution_count": 31,
   "id": "21041205",
   "metadata": {},
   "outputs": [
    {
     "name": "stdout",
     "output_type": "stream",
     "text": [
      "{'nama': 'ana'}\n"
     ]
    }
   ],
   "source": [
    "print(student[0])"
   ]
  },
  {
   "cell_type": "code",
   "execution_count": 32,
   "id": "4b6dfa90",
   "metadata": {},
   "outputs": [
    {
     "name": "stdout",
     "output_type": "stream",
     "text": [
      "ana\n"
     ]
    }
   ],
   "source": [
    "print(student[0]['nama'])"
   ]
  },
  {
   "cell_type": "code",
   "execution_count": 33,
   "id": "0707bd03",
   "metadata": {},
   "outputs": [
    {
     "name": "stdout",
     "output_type": "stream",
     "text": [
      "[{'ana'}, {'fanny'}]\n"
     ]
    }
   ],
   "source": [
    "murid = [{'ana'},{'fanny'}]\n",
    "print(murid)"
   ]
  },
  {
   "cell_type": "code",
   "execution_count": 34,
   "id": "c91442c5",
   "metadata": {},
   "outputs": [
    {
     "name": "stdout",
     "output_type": "stream",
     "text": [
      "{'ana'}\n"
     ]
    }
   ],
   "source": [
    "print(murid[0])"
   ]
  },
  {
   "cell_type": "code",
   "execution_count": 35,
   "id": "bbd85dc8",
   "metadata": {},
   "outputs": [
    {
     "ename": "AttributeError",
     "evalue": "'list' object has no attribute 'keys'",
     "output_type": "error",
     "traceback": [
      "\u001b[1;31m---------------------------------------------------------------------------\u001b[0m",
      "\u001b[1;31mAttributeError\u001b[0m                            Traceback (most recent call last)",
      "\u001b[1;32mC:\\Users\\CLAUDE~1\\AppData\\Local\\Temp/ipykernel_8512/3433467063.py\u001b[0m in \u001b[0;36m<module>\u001b[1;34m\u001b[0m\n\u001b[1;32m----> 1\u001b[1;33m \u001b[0mprint\u001b[0m\u001b[1;33m(\u001b[0m\u001b[0mmurid\u001b[0m\u001b[1;33m.\u001b[0m\u001b[0mkeys\u001b[0m\u001b[1;33m(\u001b[0m\u001b[1;33m)\u001b[0m\u001b[1;33m)\u001b[0m\u001b[1;33m\u001b[0m\u001b[1;33m\u001b[0m\u001b[0m\n\u001b[0m",
      "\u001b[1;31mAttributeError\u001b[0m: 'list' object has no attribute 'keys'"
     ]
    }
   ],
   "source": [
    "print(murid.keys())"
   ]
  },
  {
   "cell_type": "code",
   "execution_count": 36,
   "id": "cd47eaa1",
   "metadata": {},
   "outputs": [
    {
     "name": "stdout",
     "output_type": "stream",
     "text": [
      "{'ana', 'fanny'}\n"
     ]
    }
   ],
   "source": [
    "murid = {'ana','fanny'}\n",
    "print(murid)"
   ]
  },
  {
   "cell_type": "code",
   "execution_count": 37,
   "id": "7ac83cb8",
   "metadata": {},
   "outputs": [
    {
     "ename": "TypeError",
     "evalue": "'set' object is not subscriptable",
     "output_type": "error",
     "traceback": [
      "\u001b[1;31m---------------------------------------------------------------------------\u001b[0m",
      "\u001b[1;31mTypeError\u001b[0m                                 Traceback (most recent call last)",
      "\u001b[1;32mC:\\Users\\CLAUDE~1\\AppData\\Local\\Temp/ipykernel_8512/2436419206.py\u001b[0m in \u001b[0;36m<module>\u001b[1;34m\u001b[0m\n\u001b[1;32m----> 1\u001b[1;33m \u001b[0mprint\u001b[0m\u001b[1;33m(\u001b[0m\u001b[0mmurid\u001b[0m\u001b[1;33m[\u001b[0m\u001b[1;36m0\u001b[0m\u001b[1;33m]\u001b[0m\u001b[1;33m)\u001b[0m\u001b[1;33m\u001b[0m\u001b[1;33m\u001b[0m\u001b[0m\n\u001b[0m",
      "\u001b[1;31mTypeError\u001b[0m: 'set' object is not subscriptable"
     ]
    }
   ],
   "source": [
    "print(murid[0])"
   ]
  },
  {
   "cell_type": "code",
   "execution_count": 38,
   "id": "a38708cc",
   "metadata": {},
   "outputs": [
    {
     "name": "stdout",
     "output_type": "stream",
     "text": [
      "{'1': 'ana', '2': 'fanny'}\n"
     ]
    }
   ],
   "source": [
    "murid = {'1':'ana','2':'fanny'}\n",
    "print(murid)"
   ]
  },
  {
   "cell_type": "code",
   "execution_count": 39,
   "id": "55cc64af",
   "metadata": {},
   "outputs": [
    {
     "name": "stdout",
     "output_type": "stream",
     "text": [
      "ana\n"
     ]
    }
   ],
   "source": [
    "print(murid['1'])"
   ]
  },
  {
   "cell_type": "code",
   "execution_count": 40,
   "id": "f56683a4",
   "metadata": {},
   "outputs": [
    {
     "name": "stdout",
     "output_type": "stream",
     "text": [
      "ana\n"
     ]
    }
   ],
   "source": [
    "murid = {1:'ana',2:'fanny'}\n",
    "print(murid[1])"
   ]
  },
  {
   "cell_type": "code",
   "execution_count": 42,
   "id": "50a0bba7",
   "metadata": {},
   "outputs": [
    {
     "name": "stdout",
     "output_type": "stream",
     "text": [
      "kevin\n"
     ]
    }
   ],
   "source": [
    "murid = {1:'ana',2:'fanny',3:'kevin'}\n",
    "print(murid[3])"
   ]
  },
  {
   "cell_type": "code",
   "execution_count": null,
   "id": "4afbccd4",
   "metadata": {},
   "outputs": [],
   "source": []
  }
 ],
 "metadata": {
  "kernelspec": {
   "display_name": "Python 3 (ipykernel)",
   "language": "python",
   "name": "python3"
  },
  "language_info": {
   "codemirror_mode": {
    "name": "ipython",
    "version": 3
   },
   "file_extension": ".py",
   "mimetype": "text/x-python",
   "name": "python",
   "nbconvert_exporter": "python",
   "pygments_lexer": "ipython3",
   "version": "3.9.7"
  }
 },
 "nbformat": 4,
 "nbformat_minor": 5
}
